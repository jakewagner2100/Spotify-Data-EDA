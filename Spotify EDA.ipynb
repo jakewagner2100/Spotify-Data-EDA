{
 "cells": [
  {
   "cell_type": "markdown",
   "metadata": {},
   "source": [
    "# Creating and examining the Spotify dataframe"
   ]
  },
  {
   "cell_type": "markdown",
   "metadata": {},
   "source": [
    "Imports the necessary libraries and loads the csv file\n"
   ]
  },
  {
   "cell_type": "code",
   "execution_count": 94,
   "metadata": {},
   "outputs": [
    {
     "data": {
      "text/plain": [
       "Index(['acousticness', 'artists', 'danceability', 'duration_ms', 'energy',\n",
       "       'explicit', 'id', 'instrumentalness', 'key', 'liveness', 'loudness',\n",
       "       'mode', 'name', 'popularity', 'release_date', 'speechiness', 'tempo',\n",
       "       'valence', 'year'],\n",
       "      dtype='object')"
      ]
     },
     "execution_count": 94,
     "metadata": {},
     "output_type": "execute_result"
    }
   ],
   "source": [
    "import pandas as pd\n",
    "import numpy as np\n",
    "import matplotlib.pyplot as plt\n",
    "\n",
    "spotify_df = pd.read_csv('data.csv')\n",
    "spotify_df.columns"
   ]
  },
  {
   "cell_type": "markdown",
   "metadata": {},
   "source": [
    "Gives a preview of the data.csv file including:\n",
    "- Gets rid of null values\n",
    "- Gets rid of any duplicates\n",
    "- First 5 rows"
   ]
  },
  {
   "cell_type": "code",
   "execution_count": 95,
   "metadata": {},
   "outputs": [
    {
     "name": "stdout",
     "output_type": "stream",
     "text": [
      "   acousticness                    artists  danceability  duration_ms  energy  \\\n",
      "0      0.991000            ['Mamie Smith']         0.598       168333   0.224   \n",
      "1      0.643000  [\"Screamin' Jay Hawkins\"]         0.852       150200   0.517   \n",
      "2      0.993000            ['Mamie Smith']         0.647       163827   0.186   \n",
      "3      0.000173        ['Oscar Velazquez']         0.730       422087   0.798   \n",
      "4      0.295000                   ['Mixe']         0.704       165224   0.707   \n",
      "\n",
      "   explicit                      id  instrumentalness  key  liveness  \\\n",
      "0         0  0cS0A1fUEUd1EW3FcF8AEI          0.000522    5    0.3790   \n",
      "1         0  0hbkKFIJm7Z05H8Zl9w30f          0.026400    5    0.0809   \n",
      "2         0  11m7laMUgmOKqI3oYzuhne          0.000018    0    0.5190   \n",
      "3         0  19Lc5SfJJ5O1oaxY0fpwfh          0.801000    2    0.1280   \n",
      "4         1  2hJjbsLCytGsnAHfdsLejp          0.000246   10    0.4020   \n",
      "\n",
      "   loudness  mode                                               name  \\\n",
      "0   -12.628     0                           Keep A Song In Your Soul   \n",
      "1    -7.261     0                               I Put A Spell On You   \n",
      "2   -12.098     1                                       Golfing Papa   \n",
      "3    -7.311     1  True House Music - Xavier Santos & Carlos Gomi...   \n",
      "4    -6.036     0                                          Xuniverxe   \n",
      "\n",
      "   popularity release_date  speechiness    tempo  valence  year  \n",
      "0          12         1920       0.0936  149.976   0.6340  1920  \n",
      "1           7   1920-01-05       0.0534   86.889   0.9500  1920  \n",
      "2           4         1920       0.1740   97.600   0.6890  1920  \n",
      "3          17   1920-01-01       0.0425  127.997   0.0422  1920  \n",
      "4           2   1920-10-01       0.0768  122.076   0.2990  1920  \n"
     ]
    }
   ],
   "source": [
    "spotify_df.dropna()\n",
    "spotify_df.drop_duplicates()\n",
    "print(spotify_df.head())"
   ]
  },
  {
   "cell_type": "markdown",
   "metadata": {},
   "source": [
    "Gets the total number of rows in the dataframe"
   ]
  },
  {
   "cell_type": "code",
   "execution_count": 96,
   "metadata": {},
   "outputs": [
    {
     "data": {
      "text/plain": [
       "174389"
      ]
     },
     "execution_count": 96,
     "metadata": {},
     "output_type": "execute_result"
    }
   ],
   "source": [
    "len(spotify_df)"
   ]
  },
  {
   "cell_type": "markdown",
   "metadata": {},
   "source": [
    "# Analyzes the music that contains explicit content from 1920-2021"
   ]
  },
  {
   "cell_type": "markdown",
   "metadata": {},
   "source": [
    "This adds a column named 'Decade' to the dataframe"
   ]
  },
  {
   "cell_type": "code",
   "execution_count": 97,
   "metadata": {},
   "outputs": [],
   "source": [
    "spotify_df['decade'] = (spotify_df['year'].apply(lambda x: str(int(x)//10*10) + 's'[-2:]))"
   ]
  },
  {
   "cell_type": "markdown",
   "metadata": {},
   "source": [
    "Gets the required data and uses it to make a stacked bar graph"
   ]
  },
  {
   "cell_type": "code",
   "execution_count": 98,
   "metadata": {},
   "outputs": [
    {
     "data": {
      "image/png": "[encoded data removed]",
      "text/plain": [
       "<Figure size 720x360 with 1 Axes>"
      ]
     },
     "metadata": {
      "needs_background": "light"
     },
     "output_type": "display_data"
    },
    {
     "data": {
      "text/plain": [
       "<Figure size 432x288 with 0 Axes>"
      ]
     },
     "metadata": {},
     "output_type": "display_data"
    }
   ],
   "source": [
    "spotify_bar_explicit = spotify_df[spotify_df['explicit'] == 1].groupby('decade').id.count().reset_index(name = 'Count_ex')\n",
    "spotify_bar_clean = spotify_df[spotify_df['explicit'] == 0].groupby('decade').id.count().reset_index(name = 'Count_cl')\n",
    "explicit_bar = spotify_bar_explicit.Count_ex\n",
    "clean_bar = spotify_bar_clean.Count_cl\n",
    "decades = spotify_bar_explicit.decade.nunique()\n",
    "ind = np.arange(decades)\n",
    "width = 0.5\n",
    "plt.figure(figsize = (10, 5))\n",
    "plt.bar(ind, explicit_bar, width, label = 'Explicit bar')\n",
    "plt.bar(ind, clean_bar, width, label = 'Clean bar', bottom = explicit_bar)\n",
    "plt.xlabel('Decade')\n",
    "plt.ylabel('Mean Explicit Value')\n",
    "plt.xticks(ind)\n",
    "plt.title('Percentage of Songs with Explicit Content')\n",
    "plt.legend(['Explicit', 'Clean'])\n",
    "plt.show()\n",
    "plt.clf()"
   ]
  },
  {
   "cell_type": "markdown",
   "metadata": {},
   "source": [
    "# Loudness of music over the last century"
   ]
  },
  {
   "cell_type": "markdown",
   "metadata": {},
   "source": [
    "Creates a line graph of the loudness of music for each year"
   ]
  },
  {
   "cell_type": "code",
   "execution_count": 99,
   "metadata": {},
   "outputs": [
    {
     "data": {
      "image/png": "[encoded data removed]",
      "text/plain": [
       "<Figure size 720x360 with 1 Axes>"
      ]
     },
     "metadata": {
      "needs_background": "light"
     },
     "output_type": "display_data"
    }
   ],
   "source": [
    "mean_df = spotify_df.groupby(['year']).mean()\n",
    "plt.figure(figsize = (10,5))\n",
    "plt.plot(mean_df['loudness'], color = 'black')\n",
    "plt.xlabel('Year')\n",
    "plt.ylabel('Mean Loudness')\n",
    "plt.title('Mean Loudness Over the Last Century')\n",
    "plt.show()"
   ]
  },
  {
   "cell_type": "markdown",
   "metadata": {},
   "source": [
    "You can see from this graph that over time music has become louder with a major spike around the 1980's"
   ]
  },
  {
   "cell_type": "markdown",
   "metadata": {},
   "source": [
    "# How popular is your favorite artist?"
   ]
  },
  {
   "cell_type": "markdown",
   "metadata": {},
   "source": [
    "Defines a function artist_pop that takes an artists name as input and returns the average popularity of their songs"
   ]
  },
  {
   "cell_type": "code",
   "execution_count": 100,
   "metadata": {},
   "outputs": [],
   "source": [
    "def artist_pop(artist):\n",
    "    popularities = spotify_df.loc[spotify_df['artists'].str.contains(artist), 'popularity'].tolist()\n",
    "    avg_pop = round(sum(popularities)/ len(popularities), 2)\n",
    "    return '{artist} has an average popularity of: {avg_pop}'.format(artist = artist, avg_pop = avg_pop)"
   ]
  },
  {
   "cell_type": "markdown",
   "metadata": {},
   "source": [
    "Tests the artists_pop function with various artists"
   ]
  },
  {
   "cell_type": "code",
   "execution_count": 101,
   "metadata": {},
   "outputs": [
    {
     "name": "stdout",
     "output_type": "stream",
     "text": [
      "Travis Scott has an average popularity of: 69.89\n",
      "Alesso has an average popularity of: 49.67\n",
      "Bruno Mars has an average popularity of: 66.52\n"
     ]
    }
   ],
   "source": [
    "print(artist_pop('Travis Scott'))\n",
    "print(artist_pop('Alesso'))\n",
    "print(artist_pop('Bruno Mars'))"
   ]
  }
 ],
 "metadata": {
  "kernelspec": {
   "display_name": "Python 3",
   "language": "python",
   "name": "python3"
  },
  "language_info": {
   "codemirror_mode": {
    "name": "ipython",
    "version": 3
   },
   "file_extension": ".py",
   "mimetype": "text/x-python",
   "name": "python",
   "nbconvert_exporter": "python",
   "pygments_lexer": "ipython3",
   "version": "3.8.5"
  }
 },
 "nbformat": 4,
 "nbformat_minor": 4
}
